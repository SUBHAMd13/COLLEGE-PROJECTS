{
 "cells": [
  {
   "cell_type": "code",
   "execution_count": 31,
   "metadata": {},
   "outputs": [
    {
     "name": "stdout",
     "output_type": "stream",
     "text": [
      "[[5 3 0 0 7 0 0 0 0]\n",
      " [6 0 0 1 9 5 0 0 0]\n",
      " [0 9 8 0 0 0 0 6 0]\n",
      " [8 0 0 0 6 0 0 0 3]\n",
      " [4 0 0 8 0 3 0 0 1]\n",
      " [7 0 0 0 2 0 0 0 6]\n",
      " [0 6 0 0 0 0 2 8 0]\n",
      " [0 0 0 4 1 9 0 0 5]\n",
      " [0 0 0 0 9 0 0 7 9]]\n"
     ]
    }
   ],
   "source": [
    "import numpy as np\n",
    "grid = [[5,3,0,0,7,0,0,0,0],\n",
    "       [6,0,0,1,9,5,0,0,0],\n",
    "       [0,9,8,0,0,0,0,6,0],\n",
    "       [8,0,0,0,6,0,0,0,3],\n",
    "       [4,0,0,8,0,3,0,0,1],\n",
    "       [7,0,0,0,2,0,0,0,6],\n",
    "       [0,6,0,0,0,0,2,8,0],\n",
    "       [0,0,0,4,1,9,0,0,5],\n",
    "       [0,0,0,0,8,0,0,7,9]]\n",
    "print(np.matrix(grid))"
   ]
  },
  {
   "cell_type": "code",
   "execution_count": 32,
   "metadata": {},
   "outputs": [],
   "source": [
    "def checkValidSudoku():\n",
    "    global grid\n",
    "    for i in range(9):\n",
    "        for j in range(9):\n",
    "            val = grid[i][j]\n",
    "            if val > 0:\n",
    "                for col in range(9):\n",
    "                    if col != j and grid[i][col] == val:\n",
    "                        return False\n",
    "                for row in range(9):\n",
    "                    if row != i and grid[row][j] == val:\n",
    "                        return False\n",
    "                row0 = (i//3)*3\n",
    "                col0 = (j//3)*3\n",
    "                for r in range(3):\n",
    "                    for c in range(3):\n",
    "                        if grid[row0+r][col0+c] == val:\n",
    "                            if row0+r != i and col0+c != j:\n",
    "                                return False\n",
    "    return True"
   ]
  },
  {
   "cell_type": "code",
   "execution_count": 33,
   "metadata": {},
   "outputs": [
    {
     "name": "stdout",
     "output_type": "stream",
     "text": [
      "False\n"
     ]
    }
   ],
   "source": [
    "print(checkValidSudoku())"
   ]
  },
  {
   "cell_type": "code",
   "execution_count": 2,
   "metadata": {},
   "outputs": [],
   "source": [
    "def isPossible(row,col,num):\n",
    "    global grid\n",
    "    for i in range(9):\n",
    "#         row-wise checking\n",
    "        if grid[row][i] == num:\n",
    "            return False\n",
    "    for i in range(9):\n",
    "#         column-wise checking\n",
    "        if grid[i][col] == num:\n",
    "            return False\n",
    "    col0 = (col//3)*3\n",
    "    row0 = (row//3)*3\n",
    "    for i in range(3):\n",
    "        for j in range(3):\n",
    "#             small-grid-wise checking\n",
    "            if grid[row0+i][col0+j] == num:\n",
    "                return False\n",
    "    return True\n",
    "            "
   ]
  },
  {
   "cell_type": "code",
   "execution_count": 3,
   "metadata": {},
   "outputs": [
    {
     "name": "stdout",
     "output_type": "stream",
     "text": [
      "False\n"
     ]
    }
   ],
   "source": [
    "print(possible(4,4,3))"
   ]
  },
  {
   "cell_type": "code",
   "execution_count": null,
   "metadata": {},
   "outputs": [],
   "source": [
    "print(validSudoku())"
   ]
  },
  {
   "cell_type": "code",
   "execution_count": 4,
   "metadata": {},
   "outputs": [],
   "source": [
    "def solve():\n",
    "    global grid\n",
    "    for row in range(9):\n",
    "        for col in range(9):\n",
    "            if grid[row][col] == 0:\n",
    "                for n in range(1,10):\n",
    "                    if isPossible(row, col, n):\n",
    "                        grid[row][col] = n\n",
    "                        solve()\n",
    "                        grid[row][col] = 0\n",
    "                return\n",
    "    print(np.matrix(grid))\n",
    "    "
   ]
  },
  {
   "cell_type": "code",
   "execution_count": 6,
   "metadata": {},
   "outputs": [
    {
     "name": "stdout",
     "output_type": "stream",
     "text": [
      "[[5 3 4 6 7 8 9 1 2]\n",
      " [6 7 2 1 9 5 3 4 8]\n",
      " [1 9 8 3 4 2 5 6 7]\n",
      " [8 5 9 7 6 1 4 2 3]\n",
      " [4 2 6 8 5 3 7 9 1]\n",
      " [7 1 3 9 2 4 8 5 6]\n",
      " [9 6 1 5 3 7 2 8 4]\n",
      " [2 8 7 4 1 9 6 3 5]\n",
      " [3 4 5 2 8 6 1 7 9]]\n"
     ]
    }
   ],
   "source": [
    "solve()"
   ]
  },
  {
   "cell_type": "code",
   "execution_count": null,
   "metadata": {},
   "outputs": [],
   "source": []
  }
 ],
 "metadata": {
  "kernelspec": {
   "display_name": "Python 3",
   "language": "python",
   "name": "python3"
  },
  "language_info": {
   "codemirror_mode": {
    "name": "ipython",
    "version": 3
   },
   "file_extension": ".py",
   "mimetype": "text/x-python",
   "name": "python",
   "nbconvert_exporter": "python",
   "pygments_lexer": "ipython3",
   "version": "3.7.4"
  }
 },
 "nbformat": 4,
 "nbformat_minor": 2
}
